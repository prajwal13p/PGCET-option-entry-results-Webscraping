{
 "cells": [
  {
   "cell_type": "code",
   "execution_count": null,
   "metadata": {},
   "outputs": [],
   "source": [
    "import requests\n",
    "import pandas as pd \n",
    "from bs4 import BeautifulSoup as BS \n",
    "import json\n",
    "\n",
    "# defining the data frame where we have to store the Data from WEB\n",
    "col = [\"CET_no\",'Name','Rank','Verfied_cat','Cat_alloted','College_alloted','course','SNAO','Fees']\n",
    "df = pd.DataFrame(columns=col)\n",
    "\n",
    "# loading  PGCET numbers from JSON file\n",
    "with open('pgect_no.json','r') as  file:\n",
    "    data = json.load(file)\n",
    "\n",
    "# fetching all the PGCET Numbers\n",
    "pgcet_numbers_list = data.get('pgect_no',[])\n",
    "\n",
    "\n",
    "# fetchinng all the data from the data from website through url\n",
    "start_number = 0 # this is just to start from that last number featched to csv file if something happens while the loop is running\n",
    "\n",
    "for number in range(start_number, len(pgcet_numbers_list)):\n",
    "    try:\n",
    "        url = 'https://keaonline.karnataka.gov.in/pgcet_result_2024/main/resultscheck.php'  # Replace with your URL\n",
    "        payload = {\n",
    "            'txtrollno':pgcet_numbers_list[number]\n",
    "        }\n",
    "        response = requests.post(url, data=payload)\n",
    "        res_text = response.text\n",
    "        \n",
    "        # convertint text to readable HTML using Beautifull soup\n",
    "        HTML_text = BS(res_text,'html.parser')\n",
    "        lst_1 = HTML_text.body.find_all('table')[2].find_all('table')[1].text.split(\"\\n\")\n",
    "        lst = list(filter(lambda x: (x != '' and x != '\\r'),lst_1))\n",
    "        \n",
    "        df.loc[number,col[0]] = lst[4].strip() # CET_no\n",
    "        df.loc[number,col[1]] = lst[7].strip() # Name\n",
    "        df.loc[number,col[2]] = int(lst[13].strip()[:-1].split('-')[-1].strip()) # Rank\n",
    "        df.loc[number,col[3]] = lst[10].strip() # Verfied_cat\n",
    "        df.loc[number,col[4]] = lst[24].strip() # Cat_alloted\n",
    "        df.loc[number,col[5]] = lst[18].strip() # College_alloted\n",
    "        df.loc[number,col[6]] = lst[15].strip() #course\n",
    "        df.loc[number,col[7]] = int(lst[27].strip()) # SNAO(Serial Number of the Allotted Option)\n",
    "        df.loc[number,col[8]] = lst[-1].strip() # Fees\n",
    "        if number % 100 == 0:\n",
    "            print(\"updated to CSV upto\", number, pgcet_numbers_list[number])\n",
    "            df.to_csv(\"MCA.csv\")\n",
    "    except:\n",
    "        print(\"unable to fetch : \",pgcet_numbers_list[number])\n",
    "df.to_csv(\"MCA.csv\")\n"
   ]
  }
 ],
 "metadata": {
  "kernelspec": {
   "display_name": "Python 3",
   "language": "python",
   "name": "python3"
  },
  "language_info": {
   "codemirror_mode": {
    "name": "ipython",
    "version": 3
   },
   "file_extension": ".py",
   "mimetype": "text/x-python",
   "name": "python",
   "nbconvert_exporter": "python",
   "pygments_lexer": "ipython3",
   "version": "3.12.1"
  }
 },
 "nbformat": 4,
 "nbformat_minor": 2
}
